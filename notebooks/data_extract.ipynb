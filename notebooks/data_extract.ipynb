{
 "cells": [
  {
   "cell_type": "markdown",
   "id": "a0f2ab19-d193-4dd7-9c9a-2ea66006e9ee",
   "metadata": {},
   "source": [
    "## Data Extraction "
   ]
  },
  {
   "cell_type": "code",
   "execution_count": null,
   "id": "f533508e-841e-44ed-baef-a4a65a0dea00",
   "metadata": {
    "tags": []
   },
   "outputs": [],
   "source": [
    "# import global modules\n",
    "import os\n",
    "import sys\n",
    "import pandas as pd\n",
    "import re\n",
    "from pathlib import Path\n",
    "from yaml import safe_load\n",
    "import google.oauth2.credentials\n",
    "from google.cloud import bigquery\n",
    "\n",
    "# Set global vars\n",
    "pth_project = Path(os.getcwd().split('notebooks')[0])\n",
    "pth_data = pth_project / 'data'\n",
    "pth_util_data = pth_project / 'core' / 'utils' / 'data'\n",
    "pth_queries = pth_project / 'core' / 'utils' / 'queries'\n",
    "pth_creds = pth_project / 'conf' / 'local' / 'project_config.yaml'\n",
    "sys.path.insert(0, str(pth_project))\n",
    "d_project_config = safe_load(pth_creds.open())\n",
    "d_params = safe_load((pth_project / 'core' / 'parameters' / 'common.yaml').open())['data_extract']\n",
    "\n",
    "# import local modules\n",
    "from core.utils.gcp import connect_bq_services\n",
    "from core.etl.extract import extract_bq_data, extract_pr_codes, format_conv_df, filter_convs"
   ]
  },
  {
   "cell_type": "code",
   "execution_count": null,
   "id": "69f21e10-b343-4508-9c06-1b70d4b40ae1",
   "metadata": {},
   "outputs": [],
   "source": [
    "bq_client =  connect_bq_services(d_project_config['gcp-project-name'])"
   ]
  },
  {
   "cell_type": "code",
   "execution_count": null,
   "id": "78bd1b14-c570-4cf9-9ec4-e9e30d24c61c",
   "metadata": {},
   "outputs": [],
   "source": [
    "%load_ext autoreload\n",
    "%autoreload 2"
   ]
  },
  {
   "cell_type": "markdown",
   "id": "edacf90b",
   "metadata": {},
   "source": [
    "#### 1. Extract & format conversation"
   ]
  },
  {
   "cell_type": "code",
   "execution_count": null,
   "id": "117b4e53-267b-4908-9fdf-52dc57c6b6c2",
   "metadata": {
    "tags": []
   },
   "outputs": [],
   "source": [
    "# Query conversations\n",
    "sql = (pth_queries / 'common' / 'conv_extract.sql').read_text().format(\n",
    "    max_date='2022-04-11', min_date='2022-04-11'\n",
    ")\n",
    "df_conv = extract_bq_data(bq_client, sql)\n",
    "\n",
    "# load province code\n",
    "d_pr_codes = extract_pr_codes(pth_util_data / 'cnty_codes.csv')"
   ]
  },
  {
   "cell_type": "code",
   "execution_count": null,
   "id": "8098062a-82db-4282-a29b-5c3a22cb4c07",
   "metadata": {
    "tags": []
   },
   "outputs": [],
   "source": [
    "df_conv_formated = format_conv_df(\n",
    "    df_conv, d_pr_codes, d_params['num_col']\n",
    ")[d_params['conv_col_formatted']]"
   ]
  },
  {
   "cell_type": "markdown",
   "id": "d89548e6-f3a6-4a19-b4bc-213b54ca2333",
   "metadata": {},
   "source": [
    "#### 2 Extract, format and filter sentences"
   ]
  },
  {
   "cell_type": "code",
   "execution_count": null,
   "id": "7aadcfa5-3493-409e-9ef1-3b7e01c3484b",
   "metadata": {},
   "outputs": [],
   "source": [
    "sql = (pth_queries / 'common'  / 'sentence_extract.sql').read_text()\n",
    "sql = sql.format(\n",
    "    allowed_lang=d_params['allowed_lang'], min_exchange=d_params['min_exchange'], \n",
    "    max_date='2022-04-11', min_date='2022-04-11'\n",
    ")\n",
    "df_sntces = extract_bq_data(bq_client, sql)"
   ]
  },
  {
   "cell_type": "code",
   "execution_count": null,
   "id": "02cd29c6-d988-4d41-a89c-865b334c5b60",
   "metadata": {},
   "outputs": [],
   "source": [
    "df_sntces"
   ]
  },
  {
   "cell_type": "markdown",
   "id": "0eb74c88-3685-45ed-ab40-123d826c3043",
   "metadata": {
    "tags": []
   },
   "source": [
    "#### 3. Filtering and saving elligible conversation"
   ]
  },
  {
   "cell_type": "code",
   "execution_count": null,
   "id": "1b95bec2-c4bb-4f77-8f67-a87e1f3d1643",
   "metadata": {},
   "outputs": [],
   "source": [
    "df_filtered_conv, df_filtered_sntces = filter_convs(\n",
    "    df_conv_formated, df_sntces, d_params['conv_id_col']\n",
    ")\n",
    "df_filtered_conv.to_csv(pth_data / 'extract' / 'conversations.csv', index=False)\n",
    "df_filtered_sntces.to_csv(pth_data / 'extract' / 'sentences.csv', index=False)\n",
    "\n",
    "print(f'{df_filtered_conv.shape[0]} elligible conversation have been saved')\n",
    "print(f'{df_filtered_sntces.shape[0]} elligible sentences have been saved')"
   ]
  },
  {
   "cell_type": "markdown",
   "id": "df5af529-6ee4-4807-87e2-838f5deb29f2",
   "metadata": {},
   "source": [
    " ### EDA"
   ]
  },
  {
   "cell_type": "code",
   "execution_count": null,
   "id": "18bb362a-5ef4-4020-8af5-102ccd1b4cb2",
   "metadata": {},
   "outputs": [],
   "source": [
    "df_sntces.head()"
   ]
  },
  {
   "cell_type": "code",
   "execution_count": null,
   "id": "3a01a761-57a9-4cf6-938f-1e412e7e2297",
   "metadata": {
    "tags": []
   },
   "outputs": [],
   "source": [
    "df_conv.head()"
   ]
  },
  {
   "cell_type": "code",
   "execution_count": null,
   "id": "b3166a20-e429-4a2e-93ce-440355dfc98c",
   "metadata": {},
   "outputs": [],
   "source": [
    "df_conv_formated.columns"
   ]
  },
  {
   "cell_type": "code",
   "execution_count": null,
   "id": "67fce417-1ac8-4304-919d-a3061e3e35ef",
   "metadata": {},
   "outputs": [],
   "source": [
    "df_conv_formated.pr_name.unique()"
   ]
  },
  {
   "cell_type": "code",
   "execution_count": null,
   "id": "5bf8691c-61cb-4452-aa66-a20c5745e504",
   "metadata": {},
   "outputs": [],
   "source": [
    "conv_id_col=d_params['conv_id_col']"
   ]
  },
  {
   "cell_type": "code",
   "execution_count": null,
   "id": "f589d59e-a086-4660-b42a-e7f2c26f7be0",
   "metadata": {
    "tags": []
   },
   "outputs": [],
   "source": [
    "for i, (pr, df_sub) in enumerate(df_conv_formated.groupby('pr_name')):\n",
    "    if i>0:break\n",
    "    print(pr,df_sub.shape)"
   ]
  },
  {
   "cell_type": "code",
   "execution_count": null,
   "id": "f725b4be-3462-43f8-a267-5b55271ed0e2",
   "metadata": {
    "tags": []
   },
   "outputs": [],
   "source": [
    "d_sizing = {\"Province\": pr, 'Total conv': len(df_sub)}"
   ]
  },
  {
   "cell_type": "code",
   "execution_count": null,
   "id": "d17e68a7-b275-4795-9d2a-afafb3891a97",
   "metadata": {},
   "outputs": [],
   "source": [
    "df_sub = df_sub.loc[df_sub[conv_id_col].isin(df_sntces[conv_id_col].unique())]"
   ]
  },
  {
   "cell_type": "code",
   "execution_count": null,
   "id": "2e4b5f28-91ce-401e-9d33-c1bc358126a8",
   "metadata": {},
   "outputs": [],
   "source": [
    "df_sub.shape"
   ]
  },
  {
   "cell_type": "code",
   "execution_count": null,
   "id": "7443c674-1a27-4727-ab1d-f3bbf337a8c4",
   "metadata": {},
   "outputs": [],
   "source": []
  },
  {
   "cell_type": "markdown",
   "id": "b1f8cf04-3f19-41b5-8a2c-7b35949bd860",
   "metadata": {
    "tags": []
   },
   "source": [
    "#### 4. Sizing analysis"
   ]
  },
  {
   "cell_type": "code",
   "execution_count": null,
   "id": "28e93c76-4d24-479a-bcb6-fe4a75ff0b51",
   "metadata": {},
   "outputs": [],
   "source": [
    "def compute_sizing(df_conv, df_sntnces, conv_id_col):\n",
    "    l_sizing = []\n",
    "    # For each province\n",
    "    for pr, df_sub in df_conv.groupby('pr_name'):\n",
    "        d_sizing = {\"Province\": pr, 'Total conv': len(df_sub)}\n",
    "        \n",
    "        # Filter out non english / noisy sentences\n",
    "        df_sub = df_sub.loc[df_sub[conv_id_col].isin(df_sntnces[conv_id_col].unique())]\n",
    "        d_sizing['Conv in english'] = len(df_sub)\n",
    "        \n",
    "        # Filter out low iss\n",
    "        df_sub = df_sub.loc[(~df_sub.iss_max.isnull()) & (df_sub.iss_max > 0.75)]\n",
    "        d_sizing['Conv with high iss'] = len(df_sub)\n",
    "        \n",
    "        # Filter out missign num\n",
    "        df_sub = df_sub.loc[~df_sub.num.isnull()]\n",
    "        d_sizing['Conv with known identification'] = len(df_sub)\n",
    "        \n",
    "        # Add to list\n",
    "        l_sizing.append(d_sizing)\n",
    "        \n",
    "    # For all data\n",
    "    d_sizing = {\"Province\": \"ALL\", 'Total conv': len(df_conv)}\n",
    "                \n",
    "    # Filter out non english / noisy sentences\n",
    "    df_conv_sub = df_conv.loc[df_conv[conv_id_col].isin(df_sntnces[conv_id_col].unique())]\n",
    "    d_sizing['Conv in english'] = len(df_conv_sub)\n",
    "\n",
    "    # Filter out low iss\n",
    "    df_conv_sub = df_conv_sub.loc[(~df_conv_sub.iss_max.isnull()) & (df_conv_sub.iss_max > 0.75)]\n",
    "    d_sizing['Conv with high iss'] = len(df_conv_sub)\n",
    "\n",
    "    # Filter out missign num\n",
    "    df_conv_sub = df_conv_sub.loc[~df_conv_sub.num.isnull()]\n",
    "    d_sizing['Conv with known identification'] = len(df_conv_sub)\n",
    "    l_sizing.append(d_sizing)\n",
    "\n",
    "    return pd.DataFrame(l_sizing)\n",
    "            "
   ]
  },
  {
   "cell_type": "code",
   "execution_count": null,
   "id": "92d921a6-0502-4aa3-86b5-77a22d14bfce",
   "metadata": {},
   "outputs": [],
   "source": [
    "df_sizing = compute_sizing(df_conv_formated, df_sntces, d_params['conv_id_col'])"
   ]
  },
  {
   "cell_type": "code",
   "execution_count": null,
   "id": "97914a02-a791-4d0c-be26-617a9c0b06d8",
   "metadata": {},
   "outputs": [],
   "source": [
    "df_sizing "
   ]
  },
  {
   "cell_type": "markdown",
   "id": "d8af3ba6-1e80-49a0-af1f-35c88676c8bf",
   "metadata": {},
   "source": [
    "#### 5. Other KPIs"
   ]
  },
  {
   "cell_type": "code",
   "execution_count": null,
   "id": "0d78224d-d1e6-4557-846a-782a63fdd0aa",
   "metadata": {},
   "outputs": [],
   "source": [
    "df_filtered_sntces.groupby('call_convrstn_id').agg({\"sntnce\": 'count'}).sort_values(by='sntnce').describe()"
   ]
  }
 ],
 "metadata": {
  "interpreter": {
   "hash": "ac59ebe37160ed0dfa835113d9b8498d9f09ceb179beaac4002f036b9467c963"
  },
  "kernelspec": {
   "display_name": "Python 3 (ipykernel)",
   "language": "python",
   "name": "python3"
  },
  "language_info": {
   "codemirror_mode": {
    "name": "ipython",
    "version": 3
   },
   "file_extension": ".py",
   "mimetype": "text/x-python",
   "name": "python",
   "nbconvert_exporter": "python",
   "pygments_lexer": "ipython3",
   "version": "3.7.12"
  }
 },
 "nbformat": 4,
 "nbformat_minor": 5
}
